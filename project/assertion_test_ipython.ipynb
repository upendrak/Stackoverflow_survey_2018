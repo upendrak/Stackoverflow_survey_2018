{
 "cells": [
  {
   "cell_type": "code",
   "execution_count": 1,
   "metadata": {},
   "outputs": [],
   "source": [
    "# Load in the ipython_nose extension:\n",
    "%load_ext ipython_nose"
   ]
  },
  {
   "cell_type": "markdown",
   "metadata": {},
   "source": [
    "Instructions to the student in the project:\n",
    "- Import pandas aliased as `pd`.\n",
    "- Load `datasets/nobel.csv` into a DataFrame and assign it to the variable `nobel`.\n",
    "\n",
    "A potential **incorrect** submission is as follows. Please process the cell below. *Note: `nobel.csv` exists in a directory named `datasets` in the same directory as this `create_tests.ipynb` notebook.*"
   ]
  },
  {
   "cell_type": "code",
   "execution_count": 2,
   "metadata": {},
   "outputs": [
    {
     "ename": "NameError",
     "evalue": "name 'read_csv' is not defined",
     "output_type": "error",
     "traceback": [
      "\u001b[0;31m---------------------------------------------------------------------------\u001b[0m",
      "\u001b[0;31mNameError\u001b[0m                                 Traceback (most recent call last)",
      "\u001b[0;32m<ipython-input-2-e1aebb4a49a5>\u001b[0m in \u001b[0;36m<module>\u001b[0;34m\u001b[0m\n\u001b[1;32m      3\u001b[0m \u001b[0;34m\u001b[0m\u001b[0m\n\u001b[1;32m      4\u001b[0m \u001b[0;31m# read in the dataset\u001b[0m\u001b[0;34m\u001b[0m\u001b[0;34m\u001b[0m\u001b[0;34m\u001b[0m\u001b[0m\n\u001b[0;32m----> 5\u001b[0;31m \u001b[0mnobel\u001b[0m \u001b[0;34m=\u001b[0m \u001b[0mread_csv\u001b[0m\u001b[0;34m(\u001b[0m\u001b[0;34m'datasets/nobel.csv'\u001b[0m\u001b[0;34m)\u001b[0m\u001b[0;34m\u001b[0m\u001b[0;34m\u001b[0m\u001b[0m\n\u001b[0m",
      "\u001b[0;31mNameError\u001b[0m: name 'read_csv' is not defined"
     ]
    }
   ],
   "source": [
    "# load library\n",
    "import pandas\n",
    "\n",
    "# read in the dataset\n",
    "nobel = read_csv('datasets/nobel.csv')"
   ]
  },
  {
   "cell_type": "code",
   "execution_count": 3,
   "metadata": {},
   "outputs": [
    {
     "data": {
      "application/json": "{\"success\": false, \"summary\": {\"tests\": 3, \"failures\": 1, \"errors\": 2}, \"tests\": [{\"name\": \"__main__.test_pandas_loaded\", \"success\": false, \"message\": \"AssertionError: The pandas alias 'pd' is not defined\\n\"}, {\"name\": \"__main__.test_nobel_loaded\", \"success\": false, \"message\": \"NameError: name 'pd' is not defined\\n\"}, {\"name\": \"__main__.test_nobel_correct\", \"success\": false, \"message\": \"NameError: name 'pd' is not defined\\n\"}]}"
     },
     "metadata": {},
     "output_type": "display_data"
    },
    {
     "data": {
      "text/plain": [
       "0/3 tests passed; 3 failed\n",
       "========\n",
       "__main__.test_pandas_loaded\n",
       "========\n",
       "Traceback (most recent call last):\n",
       "  File \"/Users/upendra_35/miniconda3/lib/python3.6/unittest/case.py\", line 59, in testPartExecutor\n",
       "    yield\n",
       "  File \"/Users/upendra_35/miniconda3/lib/python3.6/unittest/case.py\", line 605, in run\n",
       "    testMethod()\n",
       "  File \"/Users/upendra_35/miniconda3/lib/python3.6/site-packages/nose/case.py\", line 198, in runTest\n",
       "    self.test(*self.arg)\n",
       "  File \"<string>\", line 4, in test_pandas_loaded\n",
       "AssertionError: The pandas alias 'pd' is not defined\n",
       "\n",
       "========\n",
       "__main__.test_nobel_loaded\n",
       "========\n",
       "Traceback (most recent call last):\n",
       "  File \"/Users/upendra_35/miniconda3/lib/python3.6/unittest/case.py\", line 59, in testPartExecutor\n",
       "    yield\n",
       "  File \"/Users/upendra_35/miniconda3/lib/python3.6/unittest/case.py\", line 605, in run\n",
       "    testMethod()\n",
       "  File \"/Users/upendra_35/miniconda3/lib/python3.6/site-packages/nose/case.py\", line 198, in runTest\n",
       "    self.test(*self.arg)\n",
       "  File \"<string>\", line 7, in test_nobel_loaded\n",
       "NameError: name 'pd' is not defined\n",
       "\n",
       "========\n",
       "__main__.test_nobel_correct\n",
       "========\n",
       "Traceback (most recent call last):\n",
       "  File \"/Users/upendra_35/miniconda3/lib/python3.6/unittest/case.py\", line 59, in testPartExecutor\n",
       "    yield\n",
       "  File \"/Users/upendra_35/miniconda3/lib/python3.6/unittest/case.py\", line 605, in run\n",
       "    testMethod()\n",
       "  File \"/Users/upendra_35/miniconda3/lib/python3.6/site-packages/nose/case.py\", line 198, in runTest\n",
       "    self.test(*self.arg)\n",
       "  File \"<string>\", line 12, in test_nobel_correct\n",
       "NameError: name 'pd' is not defined\n",
       "\n"
      ]
     },
     "execution_count": 3,
     "metadata": {},
     "output_type": "execute_result"
    }
   ],
   "source": [
    "%%nose\n",
    "\n",
    "def test_pandas_loaded():\n",
    "    assert 'pd' in list(globals().keys()), \\\n",
    "    \"The pandas alias 'pd' is not defined\"   \n",
    "\n",
    "def test_nobel_loaded():\n",
    "    correct_nobel = pd.read_csv(\"datasets/nobel.csv\")\n",
    "    assert 'nobel' in list(globals().keys()), \\\n",
    "    \"The 'nobel' dataframe is not loaded\"\n",
    "\n",
    "def test_nobel_correct():\n",
    "    correct_nobel = pd.read_csv(\"datasets/nobel.csv\")\n",
    "    assert nobel.equals(correct_nobel), \\\n",
    "    \"The loaded 'noble' dataframe is not correct\""
   ]
  },
  {
   "cell_type": "code",
   "execution_count": 4,
   "metadata": {},
   "outputs": [],
   "source": [
    "# load library\n",
    "import pandas as pd\n",
    "\n",
    "# read in the dataset\n",
    "nobel = pd.read_csv('datasets/nobel.csv')"
   ]
  },
  {
   "cell_type": "code",
   "execution_count": 5,
   "metadata": {},
   "outputs": [
    {
     "data": {
      "application/json": "{\"success\": true, \"summary\": {\"tests\": 3, \"failures\": 0, \"errors\": 0}, \"tests\": [{\"name\": \"__main__.test_pandas_loaded\", \"success\": true, \"message\": \"\"}, {\"name\": \"__main__.test_nobel_loaded\", \"success\": true, \"message\": \"\"}, {\"name\": \"__main__.test_nobel_correct\", \"success\": true, \"message\": \"\"}]}"
     },
     "metadata": {},
     "output_type": "display_data"
    },
    {
     "data": {
      "text/plain": [
       "3/3 tests passed\n"
      ]
     },
     "execution_count": 5,
     "metadata": {},
     "output_type": "execute_result"
    }
   ],
   "source": [
    "%%nose # needed at the start of every tests cell\n",
    "def test_pandas_loaded():\n",
    "    assert 'pd' in list(globals().keys()), \\\n",
    "    \"The pandas alias 'pd' is not defined\"   \n",
    "\n",
    "def test_nobel_loaded():\n",
    "    correct_nobel = pd.read_csv(\"datasets/nobel.csv\")\n",
    "    assert 'nobel' in list(globals().keys()), \\\n",
    "    \"The 'nobel' dataframe is not loaded\"\n",
    "\n",
    "def test_nobel_correct():\n",
    "    correct_nobel = pd.read_csv(\"datasets/nobel.csv\")\n",
    "    assert nobel.equals(correct_nobel), \\\n",
    "    \"The loaded 'noble' dataframe is not correct\""
   ]
  }
 ],
 "metadata": {
  "kernelspec": {
   "display_name": "Python 3",
   "language": "python",
   "name": "python3"
  },
  "language_info": {
   "codemirror_mode": {
    "name": "ipython",
    "version": 3
   },
   "file_extension": ".py",
   "mimetype": "text/x-python",
   "name": "python",
   "nbconvert_exporter": "python",
   "pygments_lexer": "ipython3",
   "version": "3.6.7"
  }
 },
 "nbformat": 4,
 "nbformat_minor": 2
}
